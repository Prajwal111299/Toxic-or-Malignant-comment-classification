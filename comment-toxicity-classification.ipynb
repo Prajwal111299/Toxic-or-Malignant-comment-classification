{
 "cells": [
  {
   "cell_type": "code",
   "execution_count": 1,
   "id": "2980fe7a",
   "metadata": {
    "_cell_guid": "b1076dfc-b9ad-4769-8c92-a6c4dae69d19",
    "_uuid": "8f2839f25d086af736a60e9eeb907d3b93b6e0e5",
    "execution": {
     "iopub.execute_input": "2023-08-16T11:38:39.664754Z",
     "iopub.status.busy": "2023-08-16T11:38:39.664325Z",
     "iopub.status.idle": "2023-08-16T11:38:39.678047Z",
     "shell.execute_reply": "2023-08-16T11:38:39.676956Z"
    },
    "papermill": {
     "duration": 0.028395,
     "end_time": "2023-08-16T11:38:39.680173",
     "exception": false,
     "start_time": "2023-08-16T11:38:39.651778",
     "status": "completed"
    },
    "tags": []
   },
   "outputs": [
    {
     "name": "stdout",
     "output_type": "stream",
     "text": [
      "/kaggle/input/jigsaw-toxic-comment-classification-challenge/train.csv.zip\n",
      "/kaggle/input/jigsaw-toxic-comment-classification-challenge/sample_submission.csv.zip\n",
      "/kaggle/input/jigsaw-toxic-comment-classification-challenge/test_labels.csv.zip\n",
      "/kaggle/input/jigsaw-toxic-comment-classification-challenge/test.csv.zip\n"
     ]
    }
   ],
   "source": [
    "import os\n",
    "for dirname, _, filenames in os.walk('/kaggle/input'):\n",
    "    for filename in filenames:\n",
    "        print(os.path.join(dirname, filename))"
   ]
  },
  {
   "cell_type": "code",
   "execution_count": 2,
   "id": "55a08d82",
   "metadata": {
    "execution": {
     "iopub.execute_input": "2023-08-16T11:38:39.702715Z",
     "iopub.status.busy": "2023-08-16T11:38:39.702441Z",
     "iopub.status.idle": "2023-08-16T11:38:39.706530Z",
     "shell.execute_reply": "2023-08-16T11:38:39.705623Z"
    },
    "papermill": {
     "duration": 0.017349,
     "end_time": "2023-08-16T11:38:39.708560",
     "exception": false,
     "start_time": "2023-08-16T11:38:39.691211",
     "status": "completed"
    },
    "tags": []
   },
   "outputs": [],
   "source": [
    "import numpy as np \n",
    "import pandas as pd\n",
    "import matplotlib.pyplot as plt"
   ]
  },
  {
   "cell_type": "markdown",
   "id": "7a6136de",
   "metadata": {
    "papermill": {
     "duration": 0.010113,
     "end_time": "2023-08-16T11:38:39.728963",
     "exception": false,
     "start_time": "2023-08-16T11:38:39.718850",
     "status": "completed"
    },
    "tags": []
   },
   "source": [
    "# Load datasets"
   ]
  },
  {
   "cell_type": "markdown",
   "id": "49848415",
   "metadata": {
    "papermill": {
     "duration": 0.010096,
     "end_time": "2023-08-16T11:38:39.749362",
     "exception": false,
     "start_time": "2023-08-16T11:38:39.739266",
     "status": "completed"
    },
    "tags": []
   },
   "source": [
    "## Unzip data"
   ]
  },
  {
   "cell_type": "code",
   "execution_count": 3,
   "id": "75aab762",
   "metadata": {
    "execution": {
     "iopub.execute_input": "2023-08-16T11:38:39.771403Z",
     "iopub.status.busy": "2023-08-16T11:38:39.770749Z",
     "iopub.status.idle": "2023-08-16T11:38:42.194014Z",
     "shell.execute_reply": "2023-08-16T11:38:42.192985Z"
    },
    "papermill": {
     "duration": 2.436921,
     "end_time": "2023-08-16T11:38:42.196583",
     "exception": false,
     "start_time": "2023-08-16T11:38:39.759662",
     "status": "completed"
    },
    "tags": []
   },
   "outputs": [],
   "source": [
    "import zipfile\n",
    "\n",
    "train_zip_path = \"/kaggle/input/jigsaw-toxic-comment-classification-challenge/train.csv.zip\"\n",
    "test_zip_path = \"/kaggle/input/jigsaw-toxic-comment-classification-challenge/test.csv.zip\"\n",
    "\n",
    "train_path = \"train\"\n",
    "test_path = \"test\"\n",
    "\n",
    "with zipfile.ZipFile(train_zip_path, 'r') as zip_ref:\n",
    "    zip_ref.extractall(train_path)\n",
    "    \n",
    "with zipfile.ZipFile(test_zip_path, 'r') as zip_ref:\n",
    "    zip_ref.extractall(test_path)"
   ]
  },
  {
   "cell_type": "markdown",
   "id": "6e4a83a0",
   "metadata": {
    "papermill": {
     "duration": 0.010199,
     "end_time": "2023-08-16T11:38:42.217969",
     "exception": false,
     "start_time": "2023-08-16T11:38:42.207770",
     "status": "completed"
    },
    "tags": []
   },
   "source": [
    "## Load data"
   ]
  },
  {
   "cell_type": "code",
   "execution_count": 4,
   "id": "e556c127",
   "metadata": {
    "execution": {
     "iopub.execute_input": "2023-08-16T11:38:42.239799Z",
     "iopub.status.busy": "2023-08-16T11:38:42.239464Z",
     "iopub.status.idle": "2023-08-16T11:38:42.244302Z",
     "shell.execute_reply": "2023-08-16T11:38:42.243302Z"
    },
    "papermill": {
     "duration": 0.01807,
     "end_time": "2023-08-16T11:38:42.246273",
     "exception": false,
     "start_time": "2023-08-16T11:38:42.228203",
     "status": "completed"
    },
    "tags": []
   },
   "outputs": [],
   "source": [
    "root = \"/kaggle/working/\"\n",
    "train_csv_path = os.path.join(root, train_path, \"train.csv\")\n",
    "test_csv_path = os.path.join(root, test_path, \"test.csv\")"
   ]
  },
  {
   "cell_type": "code",
   "execution_count": 5,
   "id": "9d05c1fa",
   "metadata": {
    "execution": {
     "iopub.execute_input": "2023-08-16T11:38:42.268653Z",
     "iopub.status.busy": "2023-08-16T11:38:42.267877Z",
     "iopub.status.idle": "2023-08-16T11:38:43.215786Z",
     "shell.execute_reply": "2023-08-16T11:38:43.214619Z"
    },
    "papermill": {
     "duration": 0.962474,
     "end_time": "2023-08-16T11:38:43.218925",
     "exception": false,
     "start_time": "2023-08-16T11:38:42.256451",
     "status": "completed"
    },
    "tags": []
   },
   "outputs": [
    {
     "data": {
      "text/html": [
       "<div>\n",
       "<style scoped>\n",
       "    .dataframe tbody tr th:only-of-type {\n",
       "        vertical-align: middle;\n",
       "    }\n",
       "\n",
       "    .dataframe tbody tr th {\n",
       "        vertical-align: top;\n",
       "    }\n",
       "\n",
       "    .dataframe thead th {\n",
       "        text-align: right;\n",
       "    }\n",
       "</style>\n",
       "<table border=\"1\" class=\"dataframe\">\n",
       "  <thead>\n",
       "    <tr style=\"text-align: right;\">\n",
       "      <th></th>\n",
       "      <th>id</th>\n",
       "      <th>comment_text</th>\n",
       "      <th>toxic</th>\n",
       "      <th>severe_toxic</th>\n",
       "      <th>obscene</th>\n",
       "      <th>threat</th>\n",
       "      <th>insult</th>\n",
       "      <th>identity_hate</th>\n",
       "    </tr>\n",
       "  </thead>\n",
       "  <tbody>\n",
       "    <tr>\n",
       "      <th>0</th>\n",
       "      <td>0000997932d777bf</td>\n",
       "      <td>Explanation\\nWhy the edits made under my usern...</td>\n",
       "      <td>0</td>\n",
       "      <td>0</td>\n",
       "      <td>0</td>\n",
       "      <td>0</td>\n",
       "      <td>0</td>\n",
       "      <td>0</td>\n",
       "    </tr>\n",
       "    <tr>\n",
       "      <th>1</th>\n",
       "      <td>000103f0d9cfb60f</td>\n",
       "      <td>D'aww! He matches this background colour I'm s...</td>\n",
       "      <td>0</td>\n",
       "      <td>0</td>\n",
       "      <td>0</td>\n",
       "      <td>0</td>\n",
       "      <td>0</td>\n",
       "      <td>0</td>\n",
       "    </tr>\n",
       "    <tr>\n",
       "      <th>2</th>\n",
       "      <td>000113f07ec002fd</td>\n",
       "      <td>Hey man, I'm really not trying to edit war. It...</td>\n",
       "      <td>0</td>\n",
       "      <td>0</td>\n",
       "      <td>0</td>\n",
       "      <td>0</td>\n",
       "      <td>0</td>\n",
       "      <td>0</td>\n",
       "    </tr>\n",
       "    <tr>\n",
       "      <th>3</th>\n",
       "      <td>0001b41b1c6bb37e</td>\n",
       "      <td>\"\\nMore\\nI can't make any real suggestions on ...</td>\n",
       "      <td>0</td>\n",
       "      <td>0</td>\n",
       "      <td>0</td>\n",
       "      <td>0</td>\n",
       "      <td>0</td>\n",
       "      <td>0</td>\n",
       "    </tr>\n",
       "    <tr>\n",
       "      <th>4</th>\n",
       "      <td>0001d958c54c6e35</td>\n",
       "      <td>You, sir, are my hero. Any chance you remember...</td>\n",
       "      <td>0</td>\n",
       "      <td>0</td>\n",
       "      <td>0</td>\n",
       "      <td>0</td>\n",
       "      <td>0</td>\n",
       "      <td>0</td>\n",
       "    </tr>\n",
       "    <tr>\n",
       "      <th>5</th>\n",
       "      <td>00025465d4725e87</td>\n",
       "      <td>\"\\n\\nCongratulations from me as well, use the ...</td>\n",
       "      <td>0</td>\n",
       "      <td>0</td>\n",
       "      <td>0</td>\n",
       "      <td>0</td>\n",
       "      <td>0</td>\n",
       "      <td>0</td>\n",
       "    </tr>\n",
       "    <tr>\n",
       "      <th>6</th>\n",
       "      <td>0002bcb3da6cb337</td>\n",
       "      <td>COCKSUCKER BEFORE YOU PISS AROUND ON MY WORK</td>\n",
       "      <td>1</td>\n",
       "      <td>1</td>\n",
       "      <td>1</td>\n",
       "      <td>0</td>\n",
       "      <td>1</td>\n",
       "      <td>0</td>\n",
       "    </tr>\n",
       "    <tr>\n",
       "      <th>7</th>\n",
       "      <td>00031b1e95af7921</td>\n",
       "      <td>Your vandalism to the Matt Shirvington article...</td>\n",
       "      <td>0</td>\n",
       "      <td>0</td>\n",
       "      <td>0</td>\n",
       "      <td>0</td>\n",
       "      <td>0</td>\n",
       "      <td>0</td>\n",
       "    </tr>\n",
       "    <tr>\n",
       "      <th>8</th>\n",
       "      <td>00037261f536c51d</td>\n",
       "      <td>Sorry if the word 'nonsense' was offensive to ...</td>\n",
       "      <td>0</td>\n",
       "      <td>0</td>\n",
       "      <td>0</td>\n",
       "      <td>0</td>\n",
       "      <td>0</td>\n",
       "      <td>0</td>\n",
       "    </tr>\n",
       "    <tr>\n",
       "      <th>9</th>\n",
       "      <td>00040093b2687caa</td>\n",
       "      <td>alignment on this subject and which are contra...</td>\n",
       "      <td>0</td>\n",
       "      <td>0</td>\n",
       "      <td>0</td>\n",
       "      <td>0</td>\n",
       "      <td>0</td>\n",
       "      <td>0</td>\n",
       "    </tr>\n",
       "  </tbody>\n",
       "</table>\n",
       "</div>"
      ],
      "text/plain": [
       "                 id                                       comment_text  toxic  \\\n",
       "0  0000997932d777bf  Explanation\\nWhy the edits made under my usern...      0   \n",
       "1  000103f0d9cfb60f  D'aww! He matches this background colour I'm s...      0   \n",
       "2  000113f07ec002fd  Hey man, I'm really not trying to edit war. It...      0   \n",
       "3  0001b41b1c6bb37e  \"\\nMore\\nI can't make any real suggestions on ...      0   \n",
       "4  0001d958c54c6e35  You, sir, are my hero. Any chance you remember...      0   \n",
       "5  00025465d4725e87  \"\\n\\nCongratulations from me as well, use the ...      0   \n",
       "6  0002bcb3da6cb337       COCKSUCKER BEFORE YOU PISS AROUND ON MY WORK      1   \n",
       "7  00031b1e95af7921  Your vandalism to the Matt Shirvington article...      0   \n",
       "8  00037261f536c51d  Sorry if the word 'nonsense' was offensive to ...      0   \n",
       "9  00040093b2687caa  alignment on this subject and which are contra...      0   \n",
       "\n",
       "   severe_toxic  obscene  threat  insult  identity_hate  \n",
       "0             0        0       0       0              0  \n",
       "1             0        0       0       0              0  \n",
       "2             0        0       0       0              0  \n",
       "3             0        0       0       0              0  \n",
       "4             0        0       0       0              0  \n",
       "5             0        0       0       0              0  \n",
       "6             1        1       0       1              0  \n",
       "7             0        0       0       0              0  \n",
       "8             0        0       0       0              0  \n",
       "9             0        0       0       0              0  "
      ]
     },
     "execution_count": 5,
     "metadata": {},
     "output_type": "execute_result"
    }
   ],
   "source": [
    "train_df = pd.read_csv(train_csv_path)\n",
    "train_df.head(10)"
   ]
  },
  {
   "cell_type": "code",
   "execution_count": 6,
   "id": "c1207b4b",
   "metadata": {
    "execution": {
     "iopub.execute_input": "2023-08-16T11:38:43.242165Z",
     "iopub.status.busy": "2023-08-16T11:38:43.241387Z",
     "iopub.status.idle": "2023-08-16T11:38:44.051904Z",
     "shell.execute_reply": "2023-08-16T11:38:44.050964Z"
    },
    "papermill": {
     "duration": 0.826379,
     "end_time": "2023-08-16T11:38:44.056107",
     "exception": false,
     "start_time": "2023-08-16T11:38:43.229728",
     "status": "completed"
    },
    "tags": []
   },
   "outputs": [
    {
     "data": {
      "text/html": [
       "<div>\n",
       "<style scoped>\n",
       "    .dataframe tbody tr th:only-of-type {\n",
       "        vertical-align: middle;\n",
       "    }\n",
       "\n",
       "    .dataframe tbody tr th {\n",
       "        vertical-align: top;\n",
       "    }\n",
       "\n",
       "    .dataframe thead th {\n",
       "        text-align: right;\n",
       "    }\n",
       "</style>\n",
       "<table border=\"1\" class=\"dataframe\">\n",
       "  <thead>\n",
       "    <tr style=\"text-align: right;\">\n",
       "      <th></th>\n",
       "      <th>id</th>\n",
       "      <th>comment_text</th>\n",
       "    </tr>\n",
       "  </thead>\n",
       "  <tbody>\n",
       "    <tr>\n",
       "      <th>0</th>\n",
       "      <td>00001cee341fdb12</td>\n",
       "      <td>Yo bitch Ja Rule is more succesful then you'll...</td>\n",
       "    </tr>\n",
       "    <tr>\n",
       "      <th>1</th>\n",
       "      <td>0000247867823ef7</td>\n",
       "      <td>== From RfC == \\n\\n The title is fine as it is...</td>\n",
       "    </tr>\n",
       "    <tr>\n",
       "      <th>2</th>\n",
       "      <td>00013b17ad220c46</td>\n",
       "      <td>\" \\n\\n == Sources == \\n\\n * Zawe Ashton on Lap...</td>\n",
       "    </tr>\n",
       "    <tr>\n",
       "      <th>3</th>\n",
       "      <td>00017563c3f7919a</td>\n",
       "      <td>:If you have a look back at the source, the in...</td>\n",
       "    </tr>\n",
       "    <tr>\n",
       "      <th>4</th>\n",
       "      <td>00017695ad8997eb</td>\n",
       "      <td>I don't anonymously edit articles at all.</td>\n",
       "    </tr>\n",
       "    <tr>\n",
       "      <th>5</th>\n",
       "      <td>0001ea8717f6de06</td>\n",
       "      <td>Thank you for understanding. I think very high...</td>\n",
       "    </tr>\n",
       "    <tr>\n",
       "      <th>6</th>\n",
       "      <td>00024115d4cbde0f</td>\n",
       "      <td>Please do not add nonsense to Wikipedia. Such ...</td>\n",
       "    </tr>\n",
       "    <tr>\n",
       "      <th>7</th>\n",
       "      <td>000247e83dcc1211</td>\n",
       "      <td>:Dear god this site is horrible.</td>\n",
       "    </tr>\n",
       "    <tr>\n",
       "      <th>8</th>\n",
       "      <td>00025358d4737918</td>\n",
       "      <td>\" \\n Only a fool can believe in such numbers. ...</td>\n",
       "    </tr>\n",
       "    <tr>\n",
       "      <th>9</th>\n",
       "      <td>00026d1092fe71cc</td>\n",
       "      <td>== Double Redirects == \\n\\n When fixing double...</td>\n",
       "    </tr>\n",
       "  </tbody>\n",
       "</table>\n",
       "</div>"
      ],
      "text/plain": [
       "                 id                                       comment_text\n",
       "0  00001cee341fdb12  Yo bitch Ja Rule is more succesful then you'll...\n",
       "1  0000247867823ef7  == From RfC == \\n\\n The title is fine as it is...\n",
       "2  00013b17ad220c46  \" \\n\\n == Sources == \\n\\n * Zawe Ashton on Lap...\n",
       "3  00017563c3f7919a  :If you have a look back at the source, the in...\n",
       "4  00017695ad8997eb          I don't anonymously edit articles at all.\n",
       "5  0001ea8717f6de06  Thank you for understanding. I think very high...\n",
       "6  00024115d4cbde0f  Please do not add nonsense to Wikipedia. Such ...\n",
       "7  000247e83dcc1211                   :Dear god this site is horrible.\n",
       "8  00025358d4737918  \" \\n Only a fool can believe in such numbers. ...\n",
       "9  00026d1092fe71cc  == Double Redirects == \\n\\n When fixing double..."
      ]
     },
     "execution_count": 6,
     "metadata": {},
     "output_type": "execute_result"
    }
   ],
   "source": [
    "test_df = pd.read_csv(test_csv_path)\n",
    "test_df.head(10)"
   ]
  },
  {
   "cell_type": "code",
   "execution_count": 7,
   "id": "9173e5c0",
   "metadata": {
    "execution": {
     "iopub.execute_input": "2023-08-16T11:38:44.079908Z",
     "iopub.status.busy": "2023-08-16T11:38:44.079622Z",
     "iopub.status.idle": "2023-08-16T11:38:44.085815Z",
     "shell.execute_reply": "2023-08-16T11:38:44.084841Z"
    },
    "papermill": {
     "duration": 0.0213,
     "end_time": "2023-08-16T11:38:44.088973",
     "exception": false,
     "start_time": "2023-08-16T11:38:44.067673",
     "status": "completed"
    },
    "tags": []
   },
   "outputs": [
    {
     "data": {
      "text/plain": [
       "array(['toxic', 'severe_toxic', 'obscene', 'threat', 'insult',\n",
       "       'identity_hate'], dtype=object)"
      ]
     },
     "execution_count": 7,
     "metadata": {},
     "output_type": "execute_result"
    }
   ],
   "source": [
    "labels = train_df.columns[2:].to_numpy()\n",
    "labels"
   ]
  },
  {
   "cell_type": "markdown",
   "id": "759c0cc2",
   "metadata": {
    "papermill": {
     "duration": 0.010834,
     "end_time": "2023-08-16T11:38:44.110716",
     "exception": false,
     "start_time": "2023-08-16T11:38:44.099882",
     "status": "completed"
    },
    "tags": []
   },
   "source": [
    "# Split training dataset into training and validation\n",
    "\n",
    "Currently we have a training set and a test set. The training set has its corresponding labels, while the test set doesn't.\n",
    "\n",
    "To make sure that our model doesn't overfit, let's split our training set into two parts: a training set (which will be used to train the model) and a validation set (which will be used to make sure the model doesn't overfit)."
   ]
  },
  {
   "cell_type": "code",
   "execution_count": 8,
   "id": "967edbb1",
   "metadata": {
    "execution": {
     "iopub.execute_input": "2023-08-16T11:38:44.134041Z",
     "iopub.status.busy": "2023-08-16T11:38:44.133262Z",
     "iopub.status.idle": "2023-08-16T11:38:44.143989Z",
     "shell.execute_reply": "2023-08-16T11:38:44.142976Z"
    },
    "papermill": {
     "duration": 0.02438,
     "end_time": "2023-08-16T11:38:44.145947",
     "exception": false,
     "start_time": "2023-08-16T11:38:44.121567",
     "status": "completed"
    },
    "tags": []
   },
   "outputs": [
    {
     "name": "stdout",
     "output_type": "stream",
     "text": [
      "Train sentences: (159571,)\n",
      "Train labels: (159571, 6)\n"
     ]
    }
   ],
   "source": [
    "train_sentences = train_df[\"comment_text\"]\n",
    "train_labels = train_df.iloc[:, 2:]\n",
    "\n",
    "print(f\"Train sentences: {train_sentences.shape}\")\n",
    "print(f\"Train labels: {train_labels.shape}\")"
   ]
  },
  {
   "cell_type": "code",
   "execution_count": 9,
   "id": "fa5d8671",
   "metadata": {
    "execution": {
     "iopub.execute_input": "2023-08-16T11:38:44.169578Z",
     "iopub.status.busy": "2023-08-16T11:38:44.168821Z",
     "iopub.status.idle": "2023-08-16T11:38:45.242877Z",
     "shell.execute_reply": "2023-08-16T11:38:45.241901Z"
    },
    "papermill": {
     "duration": 1.088166,
     "end_time": "2023-08-16T11:38:45.245258",
     "exception": false,
     "start_time": "2023-08-16T11:38:44.157092",
     "status": "completed"
    },
    "tags": []
   },
   "outputs": [
    {
     "name": "stderr",
     "output_type": "stream",
     "text": [
      "/opt/conda/lib/python3.10/site-packages/scipy/__init__.py:146: UserWarning: A NumPy version >=1.16.5 and <1.23.0 is required for this version of SciPy (detected version 1.23.5\n",
      "  warnings.warn(f\"A NumPy version >={np_minversion} and <{np_maxversion}\"\n"
     ]
    },
    {
     "name": "stdout",
     "output_type": "stream",
     "text": [
      "Train sentences: (127656,)\n",
      "Train labels: (127656, 6)\n",
      "Validation sentences: (31915,)\n",
      "Validation labels: (31915, 6)\n"
     ]
    }
   ],
   "source": [
    "from sklearn.model_selection import train_test_split\n",
    "\n",
    "train_pct = 0.8\n",
    "\n",
    "train_sentences, val_sentences, train_labels, val_labels = train_test_split(\n",
    "    train_sentences,\n",
    "    train_labels,\n",
    "    train_size=0.8\n",
    ")\n",
    "\n",
    "print(f\"Train sentences: {train_sentences.shape}\")\n",
    "print(f\"Train labels: {train_labels.shape}\")\n",
    "print(f\"Validation sentences: {val_sentences.shape}\")\n",
    "print(f\"Validation labels: {val_labels.shape}\")"
   ]
  },
  {
   "cell_type": "markdown",
   "id": "450e90a6",
   "metadata": {
    "papermill": {
     "duration": 0.011617,
     "end_time": "2023-08-16T11:38:45.268386",
     "exception": false,
     "start_time": "2023-08-16T11:38:45.256769",
     "status": "completed"
    },
    "tags": []
   },
   "source": [
    "# Text Preprocessing\n",
    "\n",
    "We need to remove some punctuation marks and special charaters, so our text is clean and crisp!"
   ]
  },
  {
   "cell_type": "code",
   "execution_count": 10,
   "id": "25ef932d",
   "metadata": {
    "execution": {
     "iopub.execute_input": "2023-08-16T11:38:45.292062Z",
     "iopub.status.busy": "2023-08-16T11:38:45.291760Z",
     "iopub.status.idle": "2023-08-16T11:38:45.299681Z",
     "shell.execute_reply": "2023-08-16T11:38:45.298719Z"
    },
    "papermill": {
     "duration": 0.022206,
     "end_time": "2023-08-16T11:38:45.301636",
     "exception": false,
     "start_time": "2023-08-16T11:38:45.279430",
     "status": "completed"
    },
    "tags": []
   },
   "outputs": [
    {
     "data": {
      "text/plain": [
       "67324     Oppose. No valid arguments for a move have bee...\n",
       "115491    \"\\nNice suggestion about the evolution article...\n",
       "140723    Saudi Arabia government and islamofascism\\nI s...\n",
       "66745     \", 8 August 2006 (UTC)\\n\\nThank you for offici...\n",
       "144857                  BLARGH BLARGH BLARGH I WILL EAT YOU\n",
       "                                ...                        \n",
       "147814                   Bond Argument, will move to bottom\n",
       "33566     Getting additional opinions does seem like a b...\n",
       "146799     That's irrelevant.  You're speculating too much.\n",
       "105089    wikipedia:administrators%27_noticeboard/Wiki_e...\n",
       "137608    May Lucifer's love be with you, Lift-off. Beep...\n",
       "Name: comment_text, Length: 127656, dtype: object"
      ]
     },
     "execution_count": 10,
     "metadata": {},
     "output_type": "execute_result"
    }
   ],
   "source": [
    "# gunky text, bleugh\n",
    "train_sentences"
   ]
  },
  {
   "cell_type": "code",
   "execution_count": 11,
   "id": "e9e01871",
   "metadata": {
    "execution": {
     "iopub.execute_input": "2023-08-16T11:38:45.325778Z",
     "iopub.status.busy": "2023-08-16T11:38:45.325262Z",
     "iopub.status.idle": "2023-08-16T11:38:45.331978Z",
     "shell.execute_reply": "2023-08-16T11:38:45.331135Z"
    },
    "papermill": {
     "duration": 0.020712,
     "end_time": "2023-08-16T11:38:45.333870",
     "exception": false,
     "start_time": "2023-08-16T11:38:45.313158",
     "status": "completed"
    },
    "tags": []
   },
   "outputs": [],
   "source": [
    "import string\n",
    "\n",
    "def remove_punctuation(text):\n",
    "    return text.translate(str.maketrans(\"\", \"\", string.punctuation))\n",
    "\n",
    "def remove_special_chars(text):\n",
    "    return text.replace(\"\\n\", \" \").replace(\"\\t\", \" \").strip()\n",
    "\n",
    "def normalize_spacing(text):\n",
    "    return \" \".join(text.split())\n",
    "\n",
    "def process_text(text):\n",
    "    text = remove_punctuation(text)\n",
    "    text = remove_special_chars(text)\n",
    "    text = normalize_spacing(text)\n",
    "    return text"
   ]
  },
  {
   "cell_type": "code",
   "execution_count": 12,
   "id": "14605574",
   "metadata": {
    "execution": {
     "iopub.execute_input": "2023-08-16T11:38:45.357860Z",
     "iopub.status.busy": "2023-08-16T11:38:45.357123Z",
     "iopub.status.idle": "2023-08-16T11:38:48.785313Z",
     "shell.execute_reply": "2023-08-16T11:38:48.784323Z"
    },
    "papermill": {
     "duration": 3.442761,
     "end_time": "2023-08-16T11:38:48.787812",
     "exception": false,
     "start_time": "2023-08-16T11:38:45.345051",
     "status": "completed"
    },
    "tags": []
   },
   "outputs": [],
   "source": [
    "# apply preprocessing\n",
    "train_sentences = train_sentences.map(process_text)\n",
    "val_sentences = val_sentences.map(process_text)"
   ]
  },
  {
   "cell_type": "code",
   "execution_count": 13,
   "id": "c3ed58a0",
   "metadata": {
    "execution": {
     "iopub.execute_input": "2023-08-16T11:38:48.812678Z",
     "iopub.status.busy": "2023-08-16T11:38:48.812222Z",
     "iopub.status.idle": "2023-08-16T11:38:48.907438Z",
     "shell.execute_reply": "2023-08-16T11:38:48.906552Z"
    },
    "papermill": {
     "duration": 0.1096,
     "end_time": "2023-08-16T11:38:48.909396",
     "exception": false,
     "start_time": "2023-08-16T11:38:48.799796",
     "status": "completed"
    },
    "tags": []
   },
   "outputs": [
    {
     "name": "stdout",
     "output_type": "stream",
     "text": [
      "Word count statistics:\n",
      "\n"
     ]
    },
    {
     "data": {
      "text/plain": [
       "count    127656.000000\n",
       "mean        373.749358\n",
       "std         563.295860\n",
       "min           3.000000\n",
       "25%          89.000000\n",
       "50%         193.000000\n",
       "75%         413.000000\n",
       "max        5000.000000\n",
       "Name: comment_text, dtype: float64"
      ]
     },
     "execution_count": 13,
     "metadata": {},
     "output_type": "execute_result"
    }
   ],
   "source": [
    "# before we continue, let's get some info about the word count for the sentences\n",
    "print(\"Word count statistics:\\n\")\n",
    "train_sentences.apply(len).describe()"
   ]
  },
  {
   "cell_type": "code",
   "execution_count": 14,
   "id": "795bba13",
   "metadata": {
    "execution": {
     "iopub.execute_input": "2023-08-16T11:38:48.934276Z",
     "iopub.status.busy": "2023-08-16T11:38:48.933439Z",
     "iopub.status.idle": "2023-08-16T11:38:48.940124Z",
     "shell.execute_reply": "2023-08-16T11:38:48.939262Z"
    },
    "papermill": {
     "duration": 0.021358,
     "end_time": "2023-08-16T11:38:48.942355",
     "exception": false,
     "start_time": "2023-08-16T11:38:48.920997",
     "status": "completed"
    },
    "tags": []
   },
   "outputs": [],
   "source": [
    "# convert Pandas series to NumPy arrays\n",
    "train_sentences = train_sentences.to_numpy()\n",
    "train_labels = train_labels.to_numpy()\n",
    "val_sentences = val_sentences.to_numpy()\n",
    "val_labels = val_labels.to_numpy()"
   ]
  },
  {
   "cell_type": "code",
   "execution_count": 15,
   "id": "0aecab12",
   "metadata": {
    "execution": {
     "iopub.execute_input": "2023-08-16T11:38:48.966948Z",
     "iopub.status.busy": "2023-08-16T11:38:48.966171Z",
     "iopub.status.idle": "2023-08-16T11:38:48.972358Z",
     "shell.execute_reply": "2023-08-16T11:38:48.971395Z"
    },
    "papermill": {
     "duration": 0.020553,
     "end_time": "2023-08-16T11:38:48.974336",
     "exception": false,
     "start_time": "2023-08-16T11:38:48.953783",
     "status": "completed"
    },
    "tags": []
   },
   "outputs": [
    {
     "data": {
      "text/plain": [
       "array(['Oppose No valid arguments for a move have been presented other than WPIDONTLIKEIT There appears to be no need to disambiguate the page either',\n",
       "       'Nice suggestion about the evolution article jk I think in an article about a controversial topic we should include arguements on both sides of an issue not based on their sillinessvalidity but on their appearance in the debate Please understand that gay marriage is a relatively new concept for many of us I am not opposed to gay marriage I am actually undecided on whether legally using the label marriage for gay marriages is a good idea I am currently leaning towards Marriage privatization although Im leary of anything with privatization in its name I can see why everyone might think that Im some prop 8 troll or something but Im not I was just reading about the topic on here and felt that there were some issues with the article and wanted to contribute',\n",
       "       'Saudi Arabia government and islamofascism I see that userSlimVirgin reverted my edits without motivation I would like to request her to give this motivation Talk Contribs 25px',\n",
       "       ..., 'Thats irrelevant Youre speculating too much',\n",
       "       'wikipediaadministrators27noticeboardWikieditorDonFphrnqTaubPersinaArchive2 wikipediaadministrators27noticeboardWikieditorDonFphrnqTaubPersinaArchive2 wikipediaadministrators27noticeboardWikieditorDonFphrnqTaubPersinaArchive1 wikipediaadministrators27noticeboardWikieditorDonFphrnqTaubPersina So this page was created httpenwikipediaorgwindexphptitleWikipediaAdministrators27noticeboardWikieditorDonFphrnqTaubPersinadiff178429228oldid178383952 2246 16 December 2007 but I am ignorant of the accomplishment I do not sense an achievement Someone please do explain hopiakuta Please do sign your signature on your message 7e7e Thank You',\n",
       "       'May Lucifers love be with you Liftoff Beep beep beep'],\n",
       "      dtype=object)"
      ]
     },
     "execution_count": 15,
     "metadata": {},
     "output_type": "execute_result"
    }
   ],
   "source": [
    "# much better!\n",
    "train_sentences"
   ]
  },
  {
   "cell_type": "markdown",
   "id": "1eecdc9f",
   "metadata": {
    "papermill": {
     "duration": 0.01143,
     "end_time": "2023-08-16T11:38:48.997255",
     "exception": false,
     "start_time": "2023-08-16T11:38:48.985825",
     "status": "completed"
    },
    "tags": []
   },
   "source": [
    "# Tokenization preparation\n",
    "\n",
    "**In fact, TensorFlow JS, which is used to load the model on the frontend, does not support the TextVectorization layer. Instead, we'll have to use the TensorFlow Tokenizer.**"
   ]
  },
  {
   "cell_type": "code",
   "execution_count": 16,
   "id": "82bd21e0",
   "metadata": {
    "execution": {
     "iopub.execute_input": "2023-08-16T11:38:49.022125Z",
     "iopub.status.busy": "2023-08-16T11:38:49.021378Z",
     "iopub.status.idle": "2023-08-16T11:38:51.091805Z",
     "shell.execute_reply": "2023-08-16T11:38:51.090551Z"
    },
    "papermill": {
     "duration": 2.08519,
     "end_time": "2023-08-16T11:38:51.094039",
     "exception": false,
     "start_time": "2023-08-16T11:38:49.008849",
     "status": "completed"
    },
    "tags": []
   },
   "outputs": [
    {
     "name": "stdout",
     "output_type": "stream",
     "text": [
      "Vocab size: 260604\n"
     ]
    }
   ],
   "source": [
    "# let's figure out how many unique words there are in our vocabulary\n",
    "\n",
    "vocab = set()\n",
    "for sentence in train_sentences:\n",
    "    for word in sentence.split():\n",
    "        vocab.add(word)\n",
    "        \n",
    "vocab_size = len(vocab)\n",
    "print(f\"Vocab size: {vocab_size}\")"
   ]
  },
  {
   "cell_type": "code",
   "execution_count": 17,
   "id": "292bc178",
   "metadata": {
    "execution": {
     "iopub.execute_input": "2023-08-16T11:38:51.119731Z",
     "iopub.status.busy": "2023-08-16T11:38:51.119372Z",
     "iopub.status.idle": "2023-08-16T11:38:51.123741Z",
     "shell.execute_reply": "2023-08-16T11:38:51.122775Z"
    },
    "papermill": {
     "duration": 0.019669,
     "end_time": "2023-08-16T11:38:51.125721",
     "exception": false,
     "start_time": "2023-08-16T11:38:51.106052",
     "status": "completed"
    },
    "tags": []
   },
   "outputs": [],
   "source": [
    "vocab_size=100000"
   ]
  },
  {
   "cell_type": "code",
   "execution_count": 18,
   "id": "4f4ba9fe",
   "metadata": {
    "execution": {
     "iopub.execute_input": "2023-08-16T11:38:51.150615Z",
     "iopub.status.busy": "2023-08-16T11:38:51.149846Z",
     "iopub.status.idle": "2023-08-16T11:39:08.413905Z",
     "shell.execute_reply": "2023-08-16T11:39:08.412826Z"
    },
    "papermill": {
     "duration": 17.279417,
     "end_time": "2023-08-16T11:39:08.416683",
     "exception": false,
     "start_time": "2023-08-16T11:38:51.137266",
     "status": "completed"
    },
    "tags": []
   },
   "outputs": [
    {
     "name": "stderr",
     "output_type": "stream",
     "text": [
      "/opt/conda/lib/python3.10/site-packages/tensorflow_io/python/ops/__init__.py:98: UserWarning: unable to load libtensorflow_io_plugins.so: unable to open file: libtensorflow_io_plugins.so, from paths: ['/opt/conda/lib/python3.10/site-packages/tensorflow_io/python/ops/libtensorflow_io_plugins.so']\n",
      "caused by: ['/opt/conda/lib/python3.10/site-packages/tensorflow_io/python/ops/libtensorflow_io_plugins.so: undefined symbol: _ZN3tsl6StatusC1EN10tensorflow5error4CodeESt17basic_string_viewIcSt11char_traitsIcEENS_14SourceLocationE']\n",
      "  warnings.warn(f\"unable to load libtensorflow_io_plugins.so: {e}\")\n",
      "/opt/conda/lib/python3.10/site-packages/tensorflow_io/python/ops/__init__.py:104: UserWarning: file system plugins are not loaded: unable to open file: libtensorflow_io.so, from paths: ['/opt/conda/lib/python3.10/site-packages/tensorflow_io/python/ops/libtensorflow_io.so']\n",
      "caused by: ['/opt/conda/lib/python3.10/site-packages/tensorflow_io/python/ops/libtensorflow_io.so: undefined symbol: _ZTVN10tensorflow13GcsFileSystemE']\n",
      "  warnings.warn(f\"file system plugins are not loaded: {e}\")\n"
     ]
    }
   ],
   "source": [
    "from tensorflow.keras.preprocessing.text import Tokenizer\n",
    "from tensorflow.keras.preprocessing.sequence import pad_sequences\n",
    "\n",
    "tokenizer = Tokenizer(num_words=vocab_size)\n",
    "tokenizer.fit_on_texts(train_sentences)"
   ]
  },
  {
   "cell_type": "code",
   "execution_count": 19,
   "id": "f1e56b9b",
   "metadata": {
    "execution": {
     "iopub.execute_input": "2023-08-16T11:39:08.445634Z",
     "iopub.status.busy": "2023-08-16T11:39:08.444964Z",
     "iopub.status.idle": "2023-08-16T11:39:08.719423Z",
     "shell.execute_reply": "2023-08-16T11:39:08.718081Z"
    },
    "papermill": {
     "duration": 0.290793,
     "end_time": "2023-08-16T11:39:08.721483",
     "exception": false,
     "start_time": "2023-08-16T11:39:08.430690",
     "status": "completed"
    },
    "tags": []
   },
   "outputs": [
    {
     "name": "stdout",
     "output_type": "stream",
     "text": [
      "100000\n"
     ]
    }
   ],
   "source": [
    "# get limited vocabulary from tokenizer word index\n",
    "\n",
    "import json\n",
    "\n",
    "vocab = {}\n",
    "for word, index in tokenizer.word_index.items():\n",
    "    if index <= vocab_size:\n",
    "        vocab[word] = index\n",
    "        \n",
    "print(len(vocab))\n",
    "\n",
    "with open(\"tokenizer_dictionary.json\", \"w\") as file:\n",
    "    json.dump(vocab, file)"
   ]
  },
  {
   "cell_type": "code",
   "execution_count": 20,
   "id": "ee58d41e",
   "metadata": {
    "execution": {
     "iopub.execute_input": "2023-08-16T11:39:08.747952Z",
     "iopub.status.busy": "2023-08-16T11:39:08.746903Z",
     "iopub.status.idle": "2023-08-16T11:39:18.819340Z",
     "shell.execute_reply": "2023-08-16T11:39:18.818280Z"
    },
    "papermill": {
     "duration": 10.087793,
     "end_time": "2023-08-16T11:39:18.821737",
     "exception": false,
     "start_time": "2023-08-16T11:39:08.733944",
     "status": "completed"
    },
    "tags": []
   },
   "outputs": [
    {
     "name": "stdout",
     "output_type": "stream",
     "text": [
      "Train sentences (vectorized): (127656, 300)\n",
      "Validation sentences (vectorized): (31915, 300)\n"
     ]
    }
   ],
   "source": [
    "# convert sentences to integer sequences\n",
    "train_sequences = tokenizer.texts_to_sequences(train_sentences)\n",
    "val_sequences = tokenizer.texts_to_sequences(val_sentences)\n",
    "\n",
    "# pad integer sequences into fixed length\n",
    "max_length = 300\n",
    "padding_type = \"post\"\n",
    "trunc_type = \"post\"\n",
    "\n",
    "train_sequences = pad_sequences(train_sequences, maxlen=max_length, padding=padding_type, truncating=trunc_type)\n",
    "val_sequences = pad_sequences(val_sequences, maxlen=max_length, padding=padding_type, truncating=trunc_type)\n",
    "\n",
    "print(f\"Train sentences (vectorized): {train_sequences.shape}\")\n",
    "print(f\"Validation sentences (vectorized): {val_sequences.shape}\")"
   ]
  },
  {
   "cell_type": "markdown",
   "id": "daf5ad77",
   "metadata": {
    "papermill": {
     "duration": 0.012503,
     "end_time": "2023-08-16T11:39:18.847350",
     "exception": false,
     "start_time": "2023-08-16T11:39:18.834847",
     "status": "completed"
    },
    "tags": []
   },
   "source": [
    "# Create model"
   ]
  },
  {
   "cell_type": "code",
   "execution_count": 21,
   "id": "54faf771",
   "metadata": {
    "execution": {
     "iopub.execute_input": "2023-08-16T11:39:18.873784Z",
     "iopub.status.busy": "2023-08-16T11:39:18.872953Z",
     "iopub.status.idle": "2023-08-16T11:39:18.878962Z",
     "shell.execute_reply": "2023-08-16T11:39:18.878099Z"
    },
    "papermill": {
     "duration": 0.021247,
     "end_time": "2023-08-16T11:39:18.881003",
     "exception": false,
     "start_time": "2023-08-16T11:39:18.859756",
     "status": "completed"
    },
    "tags": []
   },
   "outputs": [],
   "source": [
    "import tensorflow as tf\n",
    "from tensorflow.keras.layers import Embedding, LSTM, Dense, TextVectorization, Input"
   ]
  },
  {
   "cell_type": "code",
   "execution_count": 22,
   "id": "6ef2cef8",
   "metadata": {
    "execution": {
     "iopub.execute_input": "2023-08-16T11:39:18.905987Z",
     "iopub.status.busy": "2023-08-16T11:39:18.905709Z",
     "iopub.status.idle": "2023-08-16T11:39:18.910005Z",
     "shell.execute_reply": "2023-08-16T11:39:18.908992Z"
    },
    "papermill": {
     "duration": 0.019436,
     "end_time": "2023-08-16T11:39:18.912357",
     "exception": false,
     "start_time": "2023-08-16T11:39:18.892921",
     "status": "completed"
    },
    "tags": []
   },
   "outputs": [],
   "source": [
    "# our model will first convert the vectorized sentences into embeddings (fixed-size vectors)\n",
    "# the model will automatically learn the best embeddings (which are really the weights)\n",
    "# but we can set the dimension for the embeddings ourselves\n",
    "embedding_dim = 200"
   ]
  },
  {
   "cell_type": "code",
   "execution_count": 23,
   "id": "a084aea4",
   "metadata": {
    "execution": {
     "iopub.execute_input": "2023-08-16T11:39:18.937376Z",
     "iopub.status.busy": "2023-08-16T11:39:18.937117Z",
     "iopub.status.idle": "2023-08-16T11:39:22.188848Z",
     "shell.execute_reply": "2023-08-16T11:39:22.187863Z"
    },
    "papermill": {
     "duration": 3.266834,
     "end_time": "2023-08-16T11:39:22.191353",
     "exception": false,
     "start_time": "2023-08-16T11:39:18.924519",
     "status": "completed"
    },
    "tags": []
   },
   "outputs": [],
   "source": [
    "# define and compile model\n",
    "\n",
    "model = tf.keras.Sequential([\n",
    "    Embedding(vocab_size, embedding_dim, input_length=max_length),\n",
    "    LSTM(16, activation=\"tanh\"),\n",
    "    Dense(6, activation=\"sigmoid\"), # we are predicting for 6 classes\n",
    "])\n",
    "\n",
    "model.compile(\n",
    "    loss=\"binary_crossentropy\",\n",
    "    optimizer=\"adam\",\n",
    "    metrics=[\"accuracy\"]\n",
    ")"
   ]
  },
  {
   "cell_type": "code",
   "execution_count": 24,
   "id": "3ad1ec52",
   "metadata": {
    "execution": {
     "iopub.execute_input": "2023-08-16T11:39:22.218173Z",
     "iopub.status.busy": "2023-08-16T11:39:22.217308Z",
     "iopub.status.idle": "2023-08-16T11:39:22.237664Z",
     "shell.execute_reply": "2023-08-16T11:39:22.236835Z"
    },
    "papermill": {
     "duration": 0.041878,
     "end_time": "2023-08-16T11:39:22.245711",
     "exception": false,
     "start_time": "2023-08-16T11:39:22.203833",
     "status": "completed"
    },
    "tags": []
   },
   "outputs": [
    {
     "name": "stdout",
     "output_type": "stream",
     "text": [
      "Model: \"sequential\"\n",
      "_________________________________________________________________\n",
      " Layer (type)                Output Shape              Param #   \n",
      "=================================================================\n",
      " embedding (Embedding)       (None, 300, 200)          20000000  \n",
      "                                                                 \n",
      " lstm (LSTM)                 (None, 16)                13888     \n",
      "                                                                 \n",
      " dense (Dense)               (None, 6)                 102       \n",
      "                                                                 \n",
      "=================================================================\n",
      "Total params: 20,013,990\n",
      "Trainable params: 20,013,990\n",
      "Non-trainable params: 0\n",
      "_________________________________________________________________\n"
     ]
    }
   ],
   "source": [
    "model.summary()"
   ]
  },
  {
   "cell_type": "code",
   "execution_count": 25,
   "id": "4f9526ac",
   "metadata": {
    "execution": {
     "iopub.execute_input": "2023-08-16T11:39:22.272982Z",
     "iopub.status.busy": "2023-08-16T11:39:22.272706Z",
     "iopub.status.idle": "2023-08-16T11:39:22.277172Z",
     "shell.execute_reply": "2023-08-16T11:39:22.276295Z"
    },
    "papermill": {
     "duration": 0.020316,
     "end_time": "2023-08-16T11:39:22.279115",
     "exception": false,
     "start_time": "2023-08-16T11:39:22.258799",
     "status": "completed"
    },
    "tags": []
   },
   "outputs": [],
   "source": [
    "# set model training parameters\n",
    "\n",
    "epochs = 5 # if you want to improve performance, try increasing the number of training epochs\n",
    "batch_size = 64\n",
    "callbacks = [\n",
    "    tf.keras.callbacks.EarlyStopping(patience=3),\n",
    "]"
   ]
  },
  {
   "cell_type": "code",
   "execution_count": 26,
   "id": "66ee99d2",
   "metadata": {
    "execution": {
     "iopub.execute_input": "2023-08-16T11:39:22.306974Z",
     "iopub.status.busy": "2023-08-16T11:39:22.306232Z",
     "iopub.status.idle": "2023-08-16T11:39:33.402315Z",
     "shell.execute_reply": "2023-08-16T11:39:33.401389Z"
    },
    "papermill": {
     "duration": 11.112027,
     "end_time": "2023-08-16T11:39:33.404431",
     "exception": false,
     "start_time": "2023-08-16T11:39:22.292404",
     "status": "completed"
    },
    "tags": []
   },
   "outputs": [
    {
     "name": "stdout",
     "output_type": "stream",
     "text": [
      "998/998 [==============================] - 11s 7ms/step - loss: 0.6901 - accuracy: 0.9700\n"
     ]
    },
    {
     "data": {
      "text/plain": [
       "[0.6900715231895447, 0.9700140953063965]"
      ]
     },
     "execution_count": 26,
     "metadata": {},
     "output_type": "execute_result"
    }
   ],
   "source": [
    "model.evaluate(val_sequences, val_labels)"
   ]
  },
  {
   "cell_type": "code",
   "execution_count": 27,
   "id": "07a96f32",
   "metadata": {
    "execution": {
     "iopub.execute_input": "2023-08-16T11:39:33.453644Z",
     "iopub.status.busy": "2023-08-16T11:39:33.453300Z",
     "iopub.status.idle": "2023-08-16T11:45:28.457832Z",
     "shell.execute_reply": "2023-08-16T11:45:28.456883Z"
    },
    "papermill": {
     "duration": 355.031418,
     "end_time": "2023-08-16T11:45:28.459962",
     "exception": false,
     "start_time": "2023-08-16T11:39:33.428544",
     "status": "completed"
    },
    "tags": []
   },
   "outputs": [
    {
     "name": "stdout",
     "output_type": "stream",
     "text": [
      "Epoch 1/5\n",
      "1995/1995 [==============================] - 167s 82ms/step - loss: 0.1525 - accuracy: 0.9937 - val_loss: 0.1419 - val_accuracy: 0.9930\n",
      "Epoch 2/5\n",
      "1995/1995 [==============================] - 52s 26ms/step - loss: 0.1395 - accuracy: 0.9934 - val_loss: 0.1419 - val_accuracy: 0.9929\n",
      "Epoch 3/5\n",
      "1995/1995 [==============================] - 49s 25ms/step - loss: 0.1390 - accuracy: 0.9937 - val_loss: 0.1412 - val_accuracy: 0.9930\n",
      "Epoch 4/5\n",
      "1995/1995 [==============================] - 44s 22ms/step - loss: 0.1386 - accuracy: 0.9872 - val_loss: 0.1412 - val_accuracy: 0.9768\n",
      "Epoch 5/5\n",
      "1995/1995 [==============================] - 43s 22ms/step - loss: 0.1278 - accuracy: 0.9579 - val_loss: 0.1410 - val_accuracy: 0.9624\n"
     ]
    },
    {
     "data": {
      "text/plain": [
       "<keras.callbacks.History at 0x7933266fc640>"
      ]
     },
     "execution_count": 27,
     "metadata": {},
     "output_type": "execute_result"
    }
   ],
   "source": [
    "# train model\n",
    "\n",
    "model.fit(\n",
    "    train_sequences,\n",
    "    train_labels,\n",
    "    validation_data=(val_sequences, val_labels),\n",
    "    epochs=epochs,\n",
    "    batch_size=batch_size,\n",
    "    callbacks=callbacks,\n",
    ")"
   ]
  },
  {
   "cell_type": "code",
   "execution_count": 28,
   "id": "5a5a0b7e",
   "metadata": {
    "execution": {
     "iopub.execute_input": "2023-08-16T11:45:29.034553Z",
     "iopub.status.busy": "2023-08-16T11:45:29.034163Z",
     "iopub.status.idle": "2023-08-16T11:45:29.543138Z",
     "shell.execute_reply": "2023-08-16T11:45:29.542446Z"
    },
    "papermill": {
     "duration": 0.771316,
     "end_time": "2023-08-16T11:45:29.545172",
     "exception": false,
     "start_time": "2023-08-16T11:45:28.773856",
     "status": "completed"
    },
    "tags": []
   },
   "outputs": [
    {
     "data": {
      "image/png": "[encoded data removed]",
      "text/plain": [
       "<Figure size 2000x500 with 2 Axes>"
      ]
     },
     "metadata": {},
     "output_type": "display_data"
    }
   ],
   "source": [
    "hist = model.history.history\n",
    "\n",
    "plt.figure(figsize=(20, 5))\n",
    "\n",
    "plt.subplot(1, 2, 1)\n",
    "plt.title(\"Loss\")\n",
    "plt.plot(hist[\"loss\"], label=\"Training loss\")\n",
    "plt.plot(hist[\"val_loss\"], label=\"Validation loss\")\n",
    "plt.xlabel(\"Epoch\")\n",
    "plt.ylabel(\"Loss\")\n",
    "plt.xticks(range(len(hist[\"loss\"])))\n",
    "plt.legend(loc=\"upper right\")\n",
    "plt.grid(True)\n",
    "\n",
    "plt.subplot(1, 2, 2)\n",
    "plt.title(\"Accuracy\")\n",
    "plt.plot(hist[\"accuracy\"], label=\"Training accuracy\")\n",
    "plt.plot(hist[\"val_accuracy\"], label=\"Validation accuracy\")\n",
    "plt.xlabel(\"Epoch\")\n",
    "plt.ylabel(\"Accuracy\")\n",
    "plt.xticks(range(len(hist[\"accuracy\"])))\n",
    "plt.legend(loc=\"lower right\")\n",
    "plt.grid(True)\n",
    "\n",
    "plt.show()"
   ]
  },
  {
   "cell_type": "markdown",
   "id": "8d2f9276",
   "metadata": {
    "papermill": {
     "duration": 0.25965,
     "end_time": "2023-08-16T11:45:30.066564",
     "exception": false,
     "start_time": "2023-08-16T11:45:29.806914",
     "status": "completed"
    },
    "tags": []
   },
   "source": [
    "# Predictions"
   ]
  },
  {
   "cell_type": "code",
   "execution_count": 29,
   "id": "a15b53a4",
   "metadata": {
    "execution": {
     "iopub.execute_input": "2023-08-16T11:45:30.587611Z",
     "iopub.status.busy": "2023-08-16T11:45:30.587222Z",
     "iopub.status.idle": "2023-08-16T11:45:30.592796Z",
     "shell.execute_reply": "2023-08-16T11:45:30.591799Z"
    },
    "papermill": {
     "duration": 0.269548,
     "end_time": "2023-08-16T11:45:30.595096",
     "exception": false,
     "start_time": "2023-08-16T11:45:30.325548",
     "status": "completed"
    },
    "tags": []
   },
   "outputs": [],
   "source": [
    "def predict(sentence):\n",
    "    # convert sentence to sequence\n",
    "    sequences = tokenizer.texts_to_sequences([sentence])\n",
    "    padded_sequences = pad_sequences(sequences, maxlen=max_length, padding=padding_type, truncating=trunc_type)\n",
    "    \n",
    "    # get predictions for toxicity\n",
    "    predictions = model.predict(padded_sequences)[0]\n",
    "    \n",
    "    return list(zip(labels, predictions))"
   ]
  },
  {
   "cell_type": "code",
   "execution_count": 30,
   "id": "72f8bfc5",
   "metadata": {
    "execution": {
     "iopub.execute_input": "2023-08-16T11:45:31.124069Z",
     "iopub.status.busy": "2023-08-16T11:45:31.123694Z",
     "iopub.status.idle": "2023-08-16T11:45:31.590377Z",
     "shell.execute_reply": "2023-08-16T11:45:31.589354Z"
    },
    "papermill": {
     "duration": 0.731011,
     "end_time": "2023-08-16T11:45:31.592439",
     "exception": false,
     "start_time": "2023-08-16T11:45:30.861428",
     "status": "completed"
    },
    "tags": []
   },
   "outputs": [
    {
     "name": "stdout",
     "output_type": "stream",
     "text": [
      "1/1 [==============================] - 0s 385ms/step\n"
     ]
    },
    {
     "data": {
      "text/plain": [
       "[('toxic', 0.093440264),\n",
       " ('severe_toxic', 0.007150036),\n",
       " ('obscene', 0.04974302),\n",
       " ('threat', 0.0017526061),\n",
       " ('insult', 0.049061067),\n",
       " ('identity_hate', 0.00843494)]"
      ]
     },
     "execution_count": 30,
     "metadata": {},
     "output_type": "execute_result"
    }
   ],
   "source": [
    "predict(\"I hate you\")"
   ]
  },
  {
   "cell_type": "code",
   "execution_count": 31,
   "id": "664d5ac3",
   "metadata": {
    "execution": {
     "iopub.execute_input": "2023-08-16T11:45:32.163428Z",
     "iopub.status.busy": "2023-08-16T11:45:32.162545Z",
     "iopub.status.idle": "2023-08-16T11:45:32.226793Z",
     "shell.execute_reply": "2023-08-16T11:45:32.225899Z"
    },
    "papermill": {
     "duration": 0.372111,
     "end_time": "2023-08-16T11:45:32.228905",
     "exception": false,
     "start_time": "2023-08-16T11:45:31.856794",
     "status": "completed"
    },
    "tags": []
   },
   "outputs": [
    {
     "name": "stdout",
     "output_type": "stream",
     "text": [
      "1/1 [==============================] - 0s 21ms/step\n"
     ]
    },
    {
     "data": {
      "text/plain": [
       "[('toxic', 0.093440264),\n",
       " ('severe_toxic', 0.007150036),\n",
       " ('obscene', 0.04974302),\n",
       " ('threat', 0.0017526061),\n",
       " ('insult', 0.049061067),\n",
       " ('identity_hate', 0.00843494)]"
      ]
     },
     "execution_count": 31,
     "metadata": {},
     "output_type": "execute_result"
    }
   ],
   "source": [
    "predict(\"You should kill yourself right now\")"
   ]
  },
  {
   "cell_type": "code",
   "execution_count": 32,
   "id": "8f02d2d6",
   "metadata": {
    "execution": {
     "iopub.execute_input": "2023-08-16T11:45:32.753808Z",
     "iopub.status.busy": "2023-08-16T11:45:32.753423Z",
     "iopub.status.idle": "2023-08-16T11:45:32.817272Z",
     "shell.execute_reply": "2023-08-16T11:45:32.816345Z"
    },
    "papermill": {
     "duration": 0.329486,
     "end_time": "2023-08-16T11:45:32.819247",
     "exception": false,
     "start_time": "2023-08-16T11:45:32.489761",
     "status": "completed"
    },
    "tags": []
   },
   "outputs": [
    {
     "name": "stdout",
     "output_type": "stream",
     "text": [
      "1/1 [==============================] - 0s 21ms/step\n"
     ]
    },
    {
     "data": {
      "text/plain": [
       "[('toxic', 0.093440264),\n",
       " ('severe_toxic', 0.007150036),\n",
       " ('obscene', 0.04974302),\n",
       " ('threat', 0.0017526061),\n",
       " ('insult', 0.049061067),\n",
       " ('identity_hate', 0.00843494)]"
      ]
     },
     "execution_count": 32,
     "metadata": {},
     "output_type": "execute_result"
    }
   ],
   "source": [
    "predict(\"I love you\")"
   ]
  },
  {
   "cell_type": "markdown",
   "id": "599b60bc",
   "metadata": {
    "papermill": {
     "duration": 0.258792,
     "end_time": "2023-08-16T11:45:33.340686",
     "exception": false,
     "start_time": "2023-08-16T11:45:33.081894",
     "status": "completed"
    },
    "tags": []
   },
   "source": [
    "# Export model"
   ]
  },
  {
   "cell_type": "code",
   "execution_count": 33,
   "id": "a596ae52",
   "metadata": {
    "execution": {
     "iopub.execute_input": "2023-08-16T11:45:33.862398Z",
     "iopub.status.busy": "2023-08-16T11:45:33.862000Z",
     "iopub.status.idle": "2023-08-16T11:45:44.176175Z",
     "shell.execute_reply": "2023-08-16T11:45:44.175135Z"
    },
    "papermill": {
     "duration": 10.579042,
     "end_time": "2023-08-16T11:45:44.178416",
     "exception": false,
     "start_time": "2023-08-16T11:45:33.599374",
     "status": "completed"
    },
    "tags": []
   },
   "outputs": [
    {
     "name": "stdout",
     "output_type": "stream",
     "text": [
      "998/998 [==============================] - 6s 6ms/step - loss: 0.1410 - accuracy: 0.9624\n",
      "Accuracy on validation sentences: 0.9623687863349915\n"
     ]
    }
   ],
   "source": [
    "loss, accuracy = model.evaluate(val_sequences, val_labels)\n",
    "print(f\"Accuracy on validation sentences: {accuracy}\")"
   ]
  },
  {
   "cell_type": "code",
   "execution_count": 34,
   "id": "706d5dc9",
   "metadata": {
    "execution": {
     "iopub.execute_input": "2023-08-16T11:45:44.720400Z",
     "iopub.status.busy": "2023-08-16T11:45:44.719394Z",
     "iopub.status.idle": "2023-08-16T11:45:45.207361Z",
     "shell.execute_reply": "2023-08-16T11:45:45.206368Z"
    },
    "papermill": {
     "duration": 0.76127,
     "end_time": "2023-08-16T11:45:45.209897",
     "exception": false,
     "start_time": "2023-08-16T11:45:44.448627",
     "status": "completed"
    },
    "tags": []
   },
   "outputs": [],
   "source": [
    "# save model\n",
    "\n",
    "save_dir = \"comment_toxicity_classifier.h5\"\n",
    "model.save(save_dir)"
   ]
  }
 ],
 "metadata": {
  "kernelspec": {
   "display_name": "Python 3",
   "language": "python",
   "name": "python3"
  },
  "language_info": {
   "codemirror_mode": {
    "name": "ipython",
    "version": 3
   },
   "file_extension": ".py",
   "mimetype": "text/x-python",
   "name": "python",
   "nbconvert_exporter": "python",
   "pygments_lexer": "ipython3",
   "version": "3.10.12"
  },
  "papermill": {
   "default_parameters": {},
   "duration": 438.997149,
   "end_time": "2023-08-16T11:45:48.756115",
   "environment_variables": {},
   "exception": null,
   "input_path": "__notebook__.ipynb",
   "output_path": "__notebook__.ipynb",
   "parameters": {},
   "start_time": "2023-08-16T11:38:29.758966",
   "version": "2.4.0"
  }
 },
 "nbformat": 4,
 "nbformat_minor": 5
}
